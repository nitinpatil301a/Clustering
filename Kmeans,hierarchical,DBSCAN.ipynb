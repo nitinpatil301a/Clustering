{
 "cells": [
  {
   "cell_type": "code",
   "execution_count": 1,
   "metadata": {},
   "outputs": [],
   "source": [
    "import pandas as pd\n",
    "import numpy as np\n",
    "from sklearn.cluster import KMeans\n",
    "from matplotlib import pyplot as plt\n",
    "%matplotlib inline\n",
    "import sklearn.metrics as metrics"
   ]
  },
  {
   "cell_type": "code",
   "execution_count": 2,
   "metadata": {},
   "outputs": [
    {
     "data": {
      "text/html": [
       "<div>\n",
       "<style scoped>\n",
       "    .dataframe tbody tr th:only-of-type {\n",
       "        vertical-align: middle;\n",
       "    }\n",
       "\n",
       "    .dataframe tbody tr th {\n",
       "        vertical-align: top;\n",
       "    }\n",
       "\n",
       "    .dataframe thead th {\n",
       "        text-align: right;\n",
       "    }\n",
       "</style>\n",
       "<table border=\"1\" class=\"dataframe\">\n",
       "  <thead>\n",
       "    <tr style=\"text-align: right;\">\n",
       "      <th></th>\n",
       "      <th>Name</th>\n",
       "      <th>Age</th>\n",
       "      <th>Income($)</th>\n",
       "    </tr>\n",
       "  </thead>\n",
       "  <tbody>\n",
       "    <tr>\n",
       "      <th>0</th>\n",
       "      <td>Rob</td>\n",
       "      <td>27</td>\n",
       "      <td>70000</td>\n",
       "    </tr>\n",
       "    <tr>\n",
       "      <th>1</th>\n",
       "      <td>Michael</td>\n",
       "      <td>29</td>\n",
       "      <td>90000</td>\n",
       "    </tr>\n",
       "    <tr>\n",
       "      <th>2</th>\n",
       "      <td>Mohan</td>\n",
       "      <td>29</td>\n",
       "      <td>61000</td>\n",
       "    </tr>\n",
       "    <tr>\n",
       "      <th>3</th>\n",
       "      <td>Ismail</td>\n",
       "      <td>28</td>\n",
       "      <td>60000</td>\n",
       "    </tr>\n",
       "    <tr>\n",
       "      <th>4</th>\n",
       "      <td>Kory</td>\n",
       "      <td>42</td>\n",
       "      <td>150000</td>\n",
       "    </tr>\n",
       "  </tbody>\n",
       "</table>\n",
       "</div>"
      ],
      "text/plain": [
       "      Name  Age  Income($)\n",
       "0      Rob   27      70000\n",
       "1  Michael   29      90000\n",
       "2    Mohan   29      61000\n",
       "3   Ismail   28      60000\n",
       "4     Kory   42     150000"
      ]
     },
     "execution_count": 2,
     "metadata": {},
     "output_type": "execute_result"
    }
   ],
   "source": [
    "data = pd.read_csv(\"data.csv\")\n",
    "data.head()"
   ]
  },
  {
   "cell_type": "code",
   "execution_count": 3,
   "metadata": {},
   "outputs": [
    {
     "data": {
      "text/plain": [
       "Text(0,0.5,'Income($)')"
      ]
     },
     "execution_count": 3,
     "metadata": {},
     "output_type": "execute_result"
    },
    {
     "data": {
      "image/png": "[encoded data removed]",
      "text/plain": [
       "<Figure size 432x288 with 1 Axes>"
      ]
     },
     "metadata": {},
     "output_type": "display_data"
    }
   ],
   "source": [
    "plt.scatter(data.Age,data['Income($)'])\n",
    "plt.xlabel('Age')\n",
    "plt.ylabel('Income($)')"
   ]
  },
  {
   "cell_type": "markdown",
   "metadata": {},
   "source": [
    "# Kmeans"
   ]
  },
  {
   "cell_type": "code",
   "execution_count": 4,
   "metadata": {},
   "outputs": [],
   "source": [
    "wcss = []\n",
    "krange = range(1,10)\n",
    "for k in krange:\n",
    "    km = KMeans(n_clusters=k)\n",
    "    km.fit(data[['Age','Income($)']])\n",
    "    wcss.append(km.inertia_)"
   ]
  },
  {
   "cell_type": "code",
   "execution_count": 5,
   "metadata": {},
   "outputs": [
    {
     "data": {
      "text/plain": [
       "Text(0,0.5,'Within cluster sum of squared error')"
      ]
     },
     "execution_count": 5,
     "metadata": {},
     "output_type": "execute_result"
    },
    {
     "data": {
      "image/png": "[encoded data removed]",
      "text/plain": [
       "<Figure size 432x288 with 1 Axes>"
      ]
     },
     "metadata": {},
     "output_type": "display_data"
    }
   ],
   "source": [
    "plt.plot(krange,wcss)\n",
    "plt.xlabel('K value')\n",
    "plt.ylabel('Within cluster sum of squared error')\n"
   ]
  },
  {
   "cell_type": "code",
   "execution_count": 6,
   "metadata": {},
   "outputs": [
    {
     "data": {
      "text/plain": [
       "array([0, 0, 0, 0, 1, 1, 1, 1, 1, 1, 1, 0, 0, 0, 0, 0, 0, 0, 0, 1, 0, 0])"
      ]
     },
     "execution_count": 6,
     "metadata": {},
     "output_type": "execute_result"
    }
   ],
   "source": [
    "km = KMeans(n_clusters=2)\n",
    "y_predicted = km.fit_predict(data[['Age','Income($)']])\n",
    "y_predicted"
   ]
  },
  {
   "cell_type": "code",
   "execution_count": 7,
   "metadata": {},
   "outputs": [
    {
     "data": {
      "text/plain": [
       "<matplotlib.legend.Legend at 0x1724ab73ef0>"
      ]
     },
     "execution_count": 7,
     "metadata": {},
     "output_type": "execute_result"
    },
    {
     "data": {
      "image/png": "[encoded data removed]",
      "text/plain": [
       "<Figure size 432x288 with 1 Axes>"
      ]
     },
     "metadata": {},
     "output_type": "display_data"
    }
   ],
   "source": [
    "plt.scatter(data[y_predicted==0]['Age'],data[y_predicted==0]['Income($)'],color='green', label = 'Cluster 1')\n",
    "plt.scatter(data[y_predicted==1]['Age'],data[y_predicted==1]['Income($)'],color='black', label = 'Cluster 2')\n",
    "#plt.scatter(data[y_predicted==2]['Age'],data[y_predicted==2]['Income($)'],color='blue', label = 'Cluster 3')\n",
    "plt.scatter(km.cluster_centers_[:,0],km.cluster_centers_[:,1],color='red',marker='*',label='centroid')\n",
    "plt.legend()"
   ]
  },
  {
   "cell_type": "code",
   "execution_count": 8,
   "metadata": {},
   "outputs": [
    {
     "data": {
      "text/plain": [
       "0.807610841255239"
      ]
     },
     "execution_count": 8,
     "metadata": {},
     "output_type": "execute_result"
    }
   ],
   "source": [
    "#Check clustering accuracy\n",
    "metrics.silhouette_score(data[['Age','Income($)']],y_predicted)"
   ]
  },
  {
   "cell_type": "markdown",
   "metadata": {},
   "source": [
    "# Hierarchical Clustering"
   ]
  },
  {
   "cell_type": "code",
   "execution_count": 9,
   "metadata": {},
   "outputs": [
    {
     "data": {
      "text/plain": [
       "array([[2.00000000e+00, 3.00000000e+00, 1.00000050e+03, 2.00000000e+00],\n",
       "       [1.70000000e+01, 1.80000000e+01, 1.00000200e+03, 2.00000000e+00],\n",
       "       [5.00000000e+00, 8.00000000e+00, 1.00000450e+03, 2.00000000e+00],\n",
       "       [1.30000000e+01, 1.40000000e+01, 1.50000033e+03, 2.00000000e+00],\n",
       "       [1.60000000e+01, 2.30000000e+01, 1.73205235e+03, 3.00000000e+00],\n",
       "       [6.00000000e+00, 7.00000000e+00, 2.00000225e+03, 2.00000000e+00],\n",
       "       [1.20000000e+01, 2.50000000e+01, 2.59807679e+03, 3.00000000e+00],\n",
       "       [2.10000000e+01, 2.20000000e+01, 2.88677681e+03, 3.00000000e+00],\n",
       "       [1.50000000e+01, 2.80000000e+01, 4.28660985e+03, 4.00000000e+00],\n",
       "       [4.00000000e+00, 2.40000000e+01, 6.35085509e+03, 3.00000000e+00],\n",
       "       [1.10000000e+01, 3.00000000e+01, 6.79889803e+03, 5.00000000e+00],\n",
       "       [9.00000000e+00, 1.00000000e+01, 7.00000029e+03, 2.00000000e+00],\n",
       "       [0.00000000e+00, 2.60000000e+01, 7.34849020e+03, 4.00000000e+00],\n",
       "       [1.00000000e+00, 2.00000000e+01, 8.00000900e+03, 2.00000000e+00],\n",
       "       [2.90000000e+01, 3.40000000e+01, 1.08012397e+04, 7.00000000e+00],\n",
       "       [2.70000000e+01, 3.10000000e+01, 1.13607512e+04, 5.00000000e+00],\n",
       "       [3.20000000e+01, 3.60000000e+01, 3.30886477e+04, 1.20000000e+01],\n",
       "       [3.30000000e+01, 3.70000000e+01, 3.90461269e+04, 7.00000000e+00],\n",
       "       [3.50000000e+01, 3.80000000e+01, 5.31575043e+04, 1.40000000e+01],\n",
       "       [1.90000000e+01, 3.90000000e+01, 6.61437828e+04, 8.00000000e+00],\n",
       "       [4.00000000e+01, 4.10000000e+01, 3.02679292e+05, 2.20000000e+01]])"
      ]
     },
     "execution_count": 9,
     "metadata": {},
     "output_type": "execute_result"
    }
   ],
   "source": [
    "from scipy.cluster.hierarchy import *\n",
    "lm = linkage(data[['Age','Income($)']],\"ward\")\n",
    "lm"
   ]
  },
  {
   "cell_type": "code",
   "execution_count": 10,
   "metadata": {},
   "outputs": [
    {
     "data": {
      "image/png": "[encoded data removed]",
      "text/plain": [
       "<Figure size 432x288 with 1 Axes>"
      ]
     },
     "metadata": {},
     "output_type": "display_data"
    }
   ],
   "source": [
    "_=dendrogram(lm)"
   ]
  },
  {
   "cell_type": "code",
   "execution_count": 11,
   "metadata": {},
   "outputs": [
    {
     "data": {
      "text/plain": [
       "array([1, 1, 1, 1, 2, 2, 2, 2, 2, 2, 2, 1, 1, 1, 1, 1, 1, 1, 1, 2, 1, 1],\n",
       "      dtype=int32)"
      ]
     },
     "execution_count": 11,
     "metadata": {},
     "output_type": "execute_result"
    }
   ],
   "source": [
    "#y_predicted=fcluster(lm,2,criterion='maxclust')\n",
    "y_predicted=fclusterdata(data[['Age','Income($)']],2,metric='euclidean',method='ward',criterion='maxclust')\n",
    "y_predicted"
   ]
  },
  {
   "cell_type": "code",
   "execution_count": 12,
   "metadata": {},
   "outputs": [
    {
     "data": {
      "text/plain": [
       "<matplotlib.legend.Legend at 0x1724abca908>"
      ]
     },
     "execution_count": 12,
     "metadata": {},
     "output_type": "execute_result"
    },
    {
     "data": {
      "image/png": "[encoded data removed]",
      "text/plain": [
       "<Figure size 432x288 with 1 Axes>"
      ]
     },
     "metadata": {},
     "output_type": "display_data"
    }
   ],
   "source": [
    "plt.scatter(data[y_predicted==1]['Age'],data[y_predicted==1]['Income($)'],color='green', label = 'Cluster 1')\n",
    "plt.scatter(data[y_predicted==2]['Age'],data[y_predicted==2]['Income($)'],color='black', label = 'Cluster 2')\n",
    "#plt.scatter(data[y_predicted==3]['Age'],data[y_predicted==3]['Income($)'],color='blue', label = 'Cluster 3')\n",
    "#plt.scatter(data['Age'],data['Income($)'],color='red',marker='*',label='centroid')\n",
    "plt.legend()"
   ]
  },
  {
   "cell_type": "code",
   "execution_count": 13,
   "metadata": {},
   "outputs": [
    {
     "data": {
      "text/plain": [
       "0.807610841255239"
      ]
     },
     "execution_count": 13,
     "metadata": {},
     "output_type": "execute_result"
    }
   ],
   "source": [
    "#Check clustering accuracy\n",
    "metrics.silhouette_score(data[['Age','Income($)']],y_predicted)"
   ]
  },
  {
   "cell_type": "markdown",
   "metadata": {},
   "source": [
    "# DBSCAN"
   ]
  },
  {
   "cell_type": "code",
   "execution_count": 14,
   "metadata": {},
   "outputs": [],
   "source": [
    "from sklearn.cluster import DBSCAN\n",
    "from sklearn.preprocessing import StandardScaler"
   ]
  },
  {
   "cell_type": "code",
   "execution_count": 15,
   "metadata": {},
   "outputs": [],
   "source": [
    "X = StandardScaler().fit_transform(data[['Age','Income($)']])"
   ]
  },
  {
   "cell_type": "code",
   "execution_count": 16,
   "metadata": {},
   "outputs": [
    {
     "data": {
      "text/plain": [
       "DBSCAN(algorithm='auto', eps=0.9, leaf_size=30, metric='euclidean',\n",
       "    metric_params=None, min_samples=2, n_jobs=1, p=None)"
      ]
     },
     "execution_count": 16,
     "metadata": {},
     "output_type": "execute_result"
    }
   ],
   "source": [
    "db = DBSCAN(eps=0.9, min_samples=2).fit(X)\n",
    "db"
   ]
  },
  {
   "cell_type": "code",
   "execution_count": 17,
   "metadata": {},
   "outputs": [
    {
     "data": {
      "text/plain": [
       "array([0, 0, 0, 0, 1, 1, 1, 1, 1, 1, 1, 0, 0, 0, 0, 0, 2, 2, 2, 1, 2, 2],\n",
       "      dtype=int64)"
      ]
     },
     "execution_count": 17,
     "metadata": {},
     "output_type": "execute_result"
    }
   ],
   "source": [
    "y_predicted=db.labels_\n",
    "y_predicted"
   ]
  },
  {
   "cell_type": "code",
   "execution_count": 18,
   "metadata": {},
   "outputs": [
    {
     "data": {
      "text/plain": [
       "<matplotlib.legend.Legend at 0x1724ad1df98>"
      ]
     },
     "execution_count": 18,
     "metadata": {},
     "output_type": "execute_result"
    },
    {
     "data": {
      "image/png": "[encoded data removed]",
      "text/plain": [
       "<Figure size 432x288 with 1 Axes>"
      ]
     },
     "metadata": {},
     "output_type": "display_data"
    }
   ],
   "source": [
    "plt.scatter(data[y_predicted==-1]['Age'],data[y_predicted==-1]['Income($)'],color='green', label = 'Outliers')\n",
    "plt.scatter(data[y_predicted==0]['Age'],data[y_predicted==0]['Income($)'],color='black', label = 'Cluster 1')\n",
    "plt.scatter(data[y_predicted==1]['Age'],data[y_predicted==1]['Income($)'],color='blue', label = 'Cluster 2')\n",
    "plt.scatter(data[y_predicted==2]['Age'],data[y_predicted==2]['Income($)'],color='purple', label = 'Cluster 3')\n",
    "#plt.scatter(data[y_predicted==3]['Age'],data[y_predicted==3]['Income($)'],color='red', label = 'Cluster 5')\n",
    "plt.legend()"
   ]
  },
  {
   "cell_type": "code",
   "execution_count": 19,
   "metadata": {},
   "outputs": [
    {
     "data": {
      "text/plain": [
       "0.3258847091496508"
      ]
     },
     "execution_count": 19,
     "metadata": {},
     "output_type": "execute_result"
    }
   ],
   "source": [
    "#Check clustering accuracy\n",
    "metrics.silhouette_score(data[['Age','Income($)']],y_predicted)"
   ]
  },
  {
   "cell_type": "code",
   "execution_count": null,
   "metadata": {},
   "outputs": [],
   "source": []
  }
 ],
 "metadata": {
  "kernelspec": {
   "display_name": "Python 3",
   "language": "python",
   "name": "python3"
  },
  "language_info": {
   "codemirror_mode": {
    "name": "ipython",
    "version": 3
   },
   "file_extension": ".py",
   "mimetype": "text/x-python",
   "name": "python",
   "nbconvert_exporter": "python",
   "pygments_lexer": "ipython3",
   "version": "3.6.5"
  }
 },
 "nbformat": 4,
 "nbformat_minor": 2
}
